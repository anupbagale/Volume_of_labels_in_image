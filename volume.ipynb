{
  "nbformat": 4,
  "nbformat_minor": 0,
  "metadata": {
    "colab": {
      "provenance": [],
      "authorship_tag": "ABX9TyPcx6wdi5647f+AdKLGLfBr",
      "include_colab_link": true
    },
    "kernelspec": {
      "name": "python3",
      "display_name": "Python 3"
    },
    "language_info": {
      "name": "python"
    }
  },
  "cells": [
    {
      "cell_type": "markdown",
      "metadata": {
        "id": "view-in-github",
        "colab_type": "text"
      },
      "source": [
        "<a href=\"https://colab.research.google.com/github/anupbagale/Volume_of_labels_in_image/blob/main/volume.ipynb\" target=\"_parent\"><img src=\"https://colab.research.google.com/assets/colab-badge.svg\" alt=\"Open In Colab\"/></a>"
      ]
    },
    {
      "cell_type": "code",
      "source": [
        "from google.colab import drive\n",
        "drive.mount('/content/drive')"
      ],
      "metadata": {
        "colab": {
          "base_uri": "https://localhost:8080/"
        },
        "id": "cZ_CMcqllQcP",
        "outputId": "f1c16ef1-0e19-479e-fea8-61540fb6e248"
      },
      "execution_count": 21,
      "outputs": [
        {
          "output_type": "stream",
          "name": "stdout",
          "text": [
            "Drive already mounted at /content/drive; to attempt to forcibly remount, call drive.mount(\"/content/drive\", force_remount=True).\n"
          ]
        }
      ]
    },
    {
      "cell_type": "code",
      "source": [
        "import nibabel as nib\n",
        "import numpy as np\n",
        "import matplotlib.pyplot as plt"
      ],
      "metadata": {
        "id": "cCzbkneylTJ4"
      },
      "execution_count": 22,
      "outputs": []
    },
    {
      "cell_type": "code",
      "source": [
        "image_path= '/content/drive/MyDrive/OASIS3_Dataset_Part4-20240506T062954Z-001/OASIS3_Dataset_Part4/Label_Folder/OAS30101_MR_d0101.nii.gz'"
      ],
      "metadata": {
        "id": "xNoqAK9OlZdA"
      },
      "execution_count": 23,
      "outputs": []
    },
    {
      "cell_type": "markdown",
      "source": [
        "## Total volume of a structure in image"
      ],
      "metadata": {
        "id": "fY7hL3L5mxUV"
      }
    },
    {
      "cell_type": "code",
      "source": [
        "first_image = nib.load(image_path)\n",
        "\n",
        "# Image data as a numpy array\n",
        "image_data = first_image.get_fdata()\n",
        "\n",
        "# Voxel size from the image header\n",
        "voxel_size = first_image.header.get_zooms()\n",
        "\n",
        "# Calculate the volume of the image\n",
        "#np.prod calculate the total number of voxels in the images by taking the product of dimension of the images\n",
        "#calculates the volume of each voxel by taking the product of the absolute values of the voxel size along each dimension.\n",
        "volume = np.prod(image_data.shape) * np.prod(np.abs(voxel_size))\n",
        "\n",
        "print(\"Volume of the first image:\", volume, \"cubic units\")"
      ],
      "metadata": {
        "colab": {
          "base_uri": "https://localhost:8080/"
        },
        "id": "MZhKHcrPmSs2",
        "outputId": "f5e84428-cca3-4d36-edd6-335107f3e2bb"
      },
      "execution_count": 24,
      "outputs": [
        {
          "output_type": "stream",
          "name": "stdout",
          "text": [
            "Volume of the first image: 16777220.0 cubic units\n"
          ]
        }
      ]
    },
    {
      "cell_type": "markdown",
      "source": [
        "## Volume of individual labels in image"
      ],
      "metadata": {
        "id": "XKCVmF-am5k1"
      }
    },
    {
      "cell_type": "code",
      "source": [
        "# Finds the unique labels\n",
        "unique_labels = np.unique(image_data)\n",
        "\n",
        "# Print the number of unique labels\n",
        "num_labels = len(unique_labels)\n",
        "print(f\"The image has {num_labels} unique labels.\\n\")\n",
        "\n",
        "print(f\"The unique labels are \\n\", unique_labels)"
      ],
      "metadata": {
        "colab": {
          "base_uri": "https://localhost:8080/"
        },
        "id": "m51vhs3Tmtt6",
        "outputId": "139c0de4-68cb-49dc-f556-183002f9673f"
      },
      "execution_count": 25,
      "outputs": [
        {
          "output_type": "stream",
          "name": "stdout",
          "text": [
            "The image has 45 unique labels.\n",
            "\n",
            "The unique labels are \n",
            " [  0.   2.   3.   4.   5.   7.   8.  10.  11.  12.  13.  14.  15.  16.\n",
            "  17.  18.  24.  26.  28.  30.  31.  41.  42.  43.  44.  46.  47.  49.\n",
            "  50.  51.  52.  53.  54.  58.  60.  62.  63.  77.  80.  85. 251. 252.\n",
            " 253. 254. 255.]\n"
          ]
        }
      ]
    },
    {
      "cell_type": "code",
      "source": [
        "# Store the value of volume of each label\n",
        "label_volumes = {}\n",
        "\n",
        "for label in unique_labels:\n",
        "    # Count the number of voxels corresponding to the current label\n",
        "    label_count = np.sum(image_data == label)\n",
        "\n",
        "     # Calculate the voxel volume using the voxel size\n",
        "    voxel_volume = np.prod(voxel_size)\n",
        "\n",
        "    # Calculate the volume of each label\n",
        "    volume = label_count * voxel_volume\n",
        "\n",
        "    # Store the volume in the dictionary\n",
        "    label_volumes[label] = volume\n",
        "\n",
        "sum=0\n",
        "# Print the volumes of each label\n",
        "for label, volume in label_volumes.items():\n",
        "    print(f\"Label {label}: Volume {volume} mm^3\")\n",
        "    sum+=volume\n",
        "\n",
        "print(f'\\nTotal volume is {sum}')\n"
      ],
      "metadata": {
        "colab": {
          "base_uri": "https://localhost:8080/"
        },
        "id": "d2cIZ0LtnNDq",
        "outputId": "537bcd6d-9a8b-4e0c-c0d2-0ffd90c7201c"
      },
      "execution_count": 26,
      "outputs": [
        {
          "output_type": "stream",
          "name": "stdout",
          "text": [
            "Label 0.0: Volume 15744711.75383091 mm^3\n",
            "Label 2.0: Volume 179362.04276323318 mm^3\n",
            "Label 3.0: Volume 211380.05039691925 mm^3\n",
            "Label 4.0: Volume 10659.002541303635 mm^3\n",
            "Label 5.0: Volume 337.00008034706116 mm^3\n",
            "Label 7.0: Volume 13273.0031645298 mm^3\n",
            "Label 8.0: Volume 41528.00990104675 mm^3\n",
            "Label 10.0: Volume 8416.002006530762 mm^3\n",
            "Label 11.0: Volume 3467.0008265972137 mm^3\n",
            "Label 12.0: Volume 4183.000997304916 mm^3\n",
            "Label 13.0: Volume 1136.0002708435059 mm^3\n",
            "Label 14.0: Volume 1053.0002510547638 mm^3\n",
            "Label 15.0: Volume 1710.0004076957703 mm^3\n",
            "Label 16.0: Volume 17790.004241466522 mm^3\n",
            "Label 17.0: Volume 3603.0008590221405 mm^3\n",
            "Label 18.0: Volume 1376.0003280639648 mm^3\n",
            "Label 24.0: Volume 1369.0003263950348 mm^3\n",
            "Label 26.0: Volume 425.0001013278961 mm^3\n",
            "Label 28.0: Volume 3069.0007317066193 mm^3\n",
            "Label 30.0: Volume 132.00003147125244 mm^3\n",
            "Label 31.0: Volume 1865.00044465065 mm^3\n",
            "Label 41.0: Volume 176592.04210281372 mm^3\n",
            "Label 42.0: Volume 224975.05363821983 mm^3\n",
            "Label 43.0: Volume 13173.003140687943 mm^3\n",
            "Label 44.0: Volume 945.0002253055573 mm^3\n",
            "Label 46.0: Volume 13343.003181219101 mm^3\n",
            "Label 47.0: Volume 45050.01074075699 mm^3\n",
            "Label 49.0: Volume 5655.001348257065 mm^3\n",
            "Label 50.0: Volume 3684.0008783340454 mm^3\n",
            "Label 51.0: Volume 4213.001004457474 mm^3\n",
            "Label 52.0: Volume 1419.0003383159637 mm^3\n",
            "Label 53.0: Volume 3653.0008709430695 mm^3\n",
            "Label 54.0: Volume 1284.0003061294556 mm^3\n",
            "Label 58.0: Volume 289.00006890296936 mm^3\n",
            "Label 60.0: Volume 3179.000757932663 mm^3\n",
            "Label 62.0: Volume 204.00004863739014 mm^3\n",
            "Label 63.0: Volume 2304.0005493164062 mm^3\n",
            "Label 77.0: Volume 22696.00541114807 mm^3\n",
            "Label 80.0: Volume 92.00002193450928 mm^3\n",
            "Label 85.0: Volume 351.00008368492126 mm^3\n",
            "Label 251.0: Volume 1087.0002591609955 mm^3\n",
            "Label 252.0: Volume 405.00009655952454 mm^3\n",
            "Label 253.0: Volume 465.0001108646393 mm^3\n",
            "Label 254.0: Volume 407.0000970363617 mm^3\n",
            "Label 255.0: Volume 910.000216960907 mm^3\n",
            "\n",
            "Total volume is 16777220.0\n"
          ]
        }
      ]
    },
    {
      "cell_type": "code",
      "source": [],
      "metadata": {
        "id": "gin8R5D7nhGU"
      },
      "execution_count": 26,
      "outputs": []
    }
  ]
}
